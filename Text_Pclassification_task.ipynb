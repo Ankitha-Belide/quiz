{
  "nbformat": 4,
  "nbformat_minor": 0,
  "metadata": {
    "colab": {
      "provenance": []
    },
    "kernelspec": {
      "name": "python3",
      "display_name": "Python 3"
    },
    "language_info": {
      "name": "python"
    }
  },
  "cells": [
    {
      "cell_type": "code",
      "execution_count": 1,
      "metadata": {
        "colab": {
          "base_uri": "https://localhost:8080/"
        },
        "id": "w4oLP0Dn6GE9",
        "outputId": "14299c6a-4cad-4063-ff38-858dadfff38d"
      },
      "outputs": [
        {
          "output_type": "stream",
          "name": "stdout",
          "text": [
            "Downloading data from https://storage.googleapis.com/tensorflow/tf-keras-datasets/imdb.npz\n",
            "17464789/17464789 [==============================] - 0s 0us/step\n"
          ]
        }
      ],
      "source": [
        "from keras.datasets import imdb\n",
        "\n",
        "# Load the IMDb dataset\n",
        "(x_train, y_train), (x_test, y_test) = imdb.load_data(num_words=10000)\n"
      ]
    },
    {
      "cell_type": "code",
      "source": [
        "from keras.preprocessing.sequence import pad_sequences\n",
        "\n",
        "# Pad sequences to ensure uniform length\n",
        "maxlen = 200\n",
        "x_train = pad_sequences(x_train, maxlen=maxlen)\n",
        "x_test = pad_sequences(x_test, maxlen=maxlen)\n"
      ],
      "metadata": {
        "id": "oRucUEUF61wU"
      },
      "execution_count": 2,
      "outputs": []
    },
    {
      "cell_type": "code",
      "source": [
        "from keras.models import Sequential\n",
        "from keras.layers import Embedding, SimpleRNN, Dense\n",
        "\n",
        "# Build the RNN model\n",
        "model = Sequential([\n",
        "    Embedding(input_dim=10000, output_dim=32, input_length=maxlen),\n",
        "    SimpleRNN(units=32),\n",
        "    Dense(units=1, activation='sigmoid')\n",
        "])\n",
        "\n",
        "model.compile(optimizer='rmsprop', loss='binary_crossentropy', metrics=['accuracy'])\n"
      ],
      "metadata": {
        "id": "XwZLVPln65wj"
      },
      "execution_count": 3,
      "outputs": []
    },
    {
      "cell_type": "code",
      "source": [
        "history = model.fit(x_train, y_train, epochs=10, batch_size=128, validation_split=0.2)\n",
        "\n"
      ],
      "metadata": {
        "colab": {
          "base_uri": "https://localhost:8080/"
        },
        "id": "zxHN7CSw6-Va",
        "outputId": "373f58ef-32ba-47bd-ad88-ac88b0d06eb0"
      },
      "execution_count": 4,
      "outputs": [
        {
          "output_type": "stream",
          "name": "stdout",
          "text": [
            "Epoch 1/10\n",
            "157/157 [==============================] - 12s 67ms/step - loss: 0.6301 - accuracy: 0.6285 - val_loss: 0.4970 - val_accuracy: 0.7700\n",
            "Epoch 2/10\n",
            "157/157 [==============================] - 10s 66ms/step - loss: 0.4114 - accuracy: 0.8256 - val_loss: 0.5860 - val_accuracy: 0.7222\n",
            "Epoch 3/10\n",
            "157/157 [==============================] - 10s 65ms/step - loss: 0.3238 - accuracy: 0.8670 - val_loss: 0.4645 - val_accuracy: 0.8068\n",
            "Epoch 4/10\n",
            "157/157 [==============================] - 11s 69ms/step - loss: 0.2451 - accuracy: 0.9075 - val_loss: 0.4659 - val_accuracy: 0.7852\n",
            "Epoch 5/10\n",
            "157/157 [==============================] - 9s 57ms/step - loss: 0.1875 - accuracy: 0.9312 - val_loss: 0.4391 - val_accuracy: 0.8102\n",
            "Epoch 6/10\n",
            "157/157 [==============================] - 10s 65ms/step - loss: 0.1328 - accuracy: 0.9538 - val_loss: 0.5282 - val_accuracy: 0.7804\n",
            "Epoch 7/10\n",
            "157/157 [==============================] - 11s 71ms/step - loss: 0.0967 - accuracy: 0.9665 - val_loss: 0.4558 - val_accuracy: 0.8348\n",
            "Epoch 8/10\n",
            "157/157 [==============================] - 11s 68ms/step - loss: 0.0616 - accuracy: 0.9808 - val_loss: 0.4996 - val_accuracy: 0.8322\n",
            "Epoch 9/10\n",
            "157/157 [==============================] - 10s 65ms/step - loss: 0.0428 - accuracy: 0.9884 - val_loss: 0.5449 - val_accuracy: 0.8552\n",
            "Epoch 10/10\n",
            "157/157 [==============================] - 9s 58ms/step - loss: 0.0317 - accuracy: 0.9907 - val_loss: 0.6304 - val_accuracy: 0.8282\n"
          ]
        }
      ]
    },
    {
      "cell_type": "code",
      "source": [
        "loss, accuracy = model.evaluate(x_test, y_test)\n",
        "print(f'Test Loss: {loss}')\n",
        "print(f'Test Accuracy: {accuracy}')\n"
      ],
      "metadata": {
        "colab": {
          "base_uri": "https://localhost:8080/"
        },
        "id": "iLmZp2_k7Bc5",
        "outputId": "3afa70c8-888f-487e-9816-bd1f1f38422b"
      },
      "execution_count": 5,
      "outputs": [
        {
          "output_type": "stream",
          "name": "stdout",
          "text": [
            "782/782 [==============================] - 9s 12ms/step - loss: 0.6128 - accuracy: 0.8283\n",
            "Test Loss: 0.6128451228141785\n",
            "Test Accuracy: 0.828279972076416\n"
          ]
        }
      ]
    },
    {
      "cell_type": "code",
      "source": [
        "from keras.callbacks import ReduceLROnPlateau\n",
        "\n",
        "# Define ReduceLROnPlateau callback\n",
        "reduce_lr = ReduceLROnPlateau(monitor='val_loss', factor=0.2, patience=3, min_lr=0.0001)\n",
        "\n",
        "# Train the model with callback\n",
        "history = model.fit(x_train, y_train, epochs=10, batch_size=128, validation_split=0.2, callbacks=[reduce_lr])\n",
        "\n",
        "# Visualize training history\n",
        "import matplotlib.pyplot as plt\n",
        "\n",
        "plt.plot(history.history['accuracy'], label='accuracy')\n",
        "plt.plot(history.history['val_accuracy'], label='val_accuracy')\n",
        "plt.xlabel('Epoch')\n",
        "plt.ylabel('Accuracy')\n",
        "plt.legend()\n",
        "plt.show()\n",
        "\n"
      ],
      "metadata": {
        "colab": {
          "base_uri": "https://localhost:8080/",
          "height": 796
        },
        "id": "q2Ht_wB09tRD",
        "outputId": "519ad374-d962-4514-d997-377183c5f9cf"
      },
      "execution_count": 14,
      "outputs": [
        {
          "output_type": "stream",
          "name": "stdout",
          "text": [
            "Epoch 1/10\n",
            "157/157 [==============================] - 12s 76ms/step - loss: 0.0264 - accuracy: 0.9919 - val_loss: 0.6441 - val_accuracy: 0.8228 - lr: 0.0010\n",
            "Epoch 2/10\n",
            "157/157 [==============================] - 10s 62ms/step - loss: 0.0199 - accuracy: 0.9943 - val_loss: 0.8045 - val_accuracy: 0.7718 - lr: 0.0010\n",
            "Epoch 3/10\n",
            "157/157 [==============================] - 10s 61ms/step - loss: 0.0145 - accuracy: 0.9962 - val_loss: 0.7025 - val_accuracy: 0.8380 - lr: 0.0010\n",
            "Epoch 4/10\n",
            "157/157 [==============================] - 10s 65ms/step - loss: 0.0175 - accuracy: 0.9954 - val_loss: 0.7482 - val_accuracy: 0.8204 - lr: 0.0010\n",
            "Epoch 5/10\n",
            "157/157 [==============================] - 10s 65ms/step - loss: 0.0021 - accuracy: 0.9998 - val_loss: 0.7931 - val_accuracy: 0.8296 - lr: 2.0000e-04\n",
            "Epoch 6/10\n",
            "157/157 [==============================] - 10s 65ms/step - loss: 0.0011 - accuracy: 0.9999 - val_loss: 0.8493 - val_accuracy: 0.8180 - lr: 2.0000e-04\n",
            "Epoch 7/10\n",
            "157/157 [==============================] - 9s 57ms/step - loss: 7.8283e-04 - accuracy: 0.9999 - val_loss: 0.8413 - val_accuracy: 0.8288 - lr: 2.0000e-04\n",
            "Epoch 8/10\n",
            "157/157 [==============================] - 10s 65ms/step - loss: 5.0135e-04 - accuracy: 0.9999 - val_loss: 0.8631 - val_accuracy: 0.8278 - lr: 1.0000e-04\n",
            "Epoch 9/10\n",
            "157/157 [==============================] - 10s 65ms/step - loss: 4.3066e-04 - accuracy: 0.9999 - val_loss: 0.8764 - val_accuracy: 0.8334 - lr: 1.0000e-04\n",
            "Epoch 10/10\n",
            "157/157 [==============================] - 10s 65ms/step - loss: 3.8126e-04 - accuracy: 0.9999 - val_loss: 0.8959 - val_accuracy: 0.8316 - lr: 1.0000e-04\n"
          ]
        },
        {
          "output_type": "display_data",
          "data": {
            "text/plain": [
              "<Figure size 640x480 with 1 Axes>"
            ],
            "image/png": "[encoded data removed]"
          },
          "metadata": {}
        }
      ]
    }
  ]
}